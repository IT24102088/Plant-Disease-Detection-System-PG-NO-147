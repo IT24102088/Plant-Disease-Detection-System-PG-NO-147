{
  "nbformat": 4,
  "nbformat_minor": 0,
  "metadata": {
    "colab": {
      "provenance": [],
      "mount_file_id": "1o7lris9DDVW460Ax3oEYQk0LDTjPHW-b",
      "authorship_tag": "ABX9TyOvG+KiftwC/HkwRC/XylZP",
      "include_colab_link": true
    },
    "kernelspec": {
      "name": "python3",
      "display_name": "Python 3"
    },
    "language_info": {
      "name": "python"
    }
  },
  "cells": [
    {
      "cell_type": "markdown",
      "metadata": {
        "id": "view-in-github",
        "colab_type": "text"
      },
      "source": [
        "<a href=\"https://colab.research.google.com/github/IT24102088/Plant-Disease-Detection-System-PG-NO-147/blob/main/Results/Color%20augmentation/nothing.ipynb\" target=\"_parent\"><img src=\"https://colab.research.google.com/assets/colab-badge.svg\" alt=\"Open In Colab\"/></a>"
      ]
    },
    {
      "cell_type": "markdown",
      "source": [
        "Combined Preprocessing Pipeline"
      ],
      "metadata": {
        "id": "nALqAQcLCKLu"
      }
    },
    {
      "cell_type": "code",
      "execution_count": 1,
      "metadata": {
        "colab": {
          "base_uri": "https://localhost:8080/"
        },
        "id": "pbTHwXLC0Mib",
        "outputId": "d5c57ce0-5aa8-401f-fa6c-c934ce9802ef"
      },
      "outputs": [
        {
          "output_type": "stream",
          "name": "stdout",
          "text": [
            "Requirement already satisfied: kaggle in /usr/local/lib/python3.12/dist-packages (1.7.4.5)\n",
            "Requirement already satisfied: bleach in /usr/local/lib/python3.12/dist-packages (from kaggle) (6.2.0)\n",
            "Requirement already satisfied: certifi>=14.05.14 in /usr/local/lib/python3.12/dist-packages (from kaggle) (2025.8.3)\n",
            "Requirement already satisfied: charset-normalizer in /usr/local/lib/python3.12/dist-packages (from kaggle) (3.4.3)\n",
            "Requirement already satisfied: idna in /usr/local/lib/python3.12/dist-packages (from kaggle) (3.10)\n",
            "Requirement already satisfied: protobuf in /usr/local/lib/python3.12/dist-packages (from kaggle) (5.29.5)\n",
            "Requirement already satisfied: python-dateutil>=2.5.3 in /usr/local/lib/python3.12/dist-packages (from kaggle) (2.9.0.post0)\n",
            "Requirement already satisfied: python-slugify in /usr/local/lib/python3.12/dist-packages (from kaggle) (8.0.4)\n",
            "Requirement already satisfied: requests in /usr/local/lib/python3.12/dist-packages (from kaggle) (2.32.4)\n",
            "Requirement already satisfied: setuptools>=21.0.0 in /usr/local/lib/python3.12/dist-packages (from kaggle) (75.2.0)\n",
            "Requirement already satisfied: six>=1.10 in /usr/local/lib/python3.12/dist-packages (from kaggle) (1.17.0)\n",
            "Requirement already satisfied: text-unidecode in /usr/local/lib/python3.12/dist-packages (from kaggle) (1.3)\n",
            "Requirement already satisfied: tqdm in /usr/local/lib/python3.12/dist-packages (from kaggle) (4.67.1)\n",
            "Requirement already satisfied: urllib3>=1.15.1 in /usr/local/lib/python3.12/dist-packages (from kaggle) (2.5.0)\n",
            "Requirement already satisfied: webencodings in /usr/local/lib/python3.12/dist-packages (from kaggle) (0.5.1)\n"
          ]
        }
      ],
      "source": [
        "!pip install kaggle\n",
        "import os\n",
        "os.environ['KAGGLE_USERNAME'] = ''\n",
        "os.environ['KAGGLE_KEY'] = ''\n",
        "\n"
      ]
    },
    {
      "cell_type": "code",
      "source": [
        "!kaggle datasets download -d \"vipoooool/new-plant-diseases-dataset\" -p /content/drive/MyDrive/datasets/"
      ],
      "metadata": {
        "colab": {
          "base_uri": "https://localhost:8080/"
        },
        "id": "upX_FTrE02qF",
        "outputId": "d47ce521-6e92-4cf6-827f-68c4dc236525"
      },
      "execution_count": 2,
      "outputs": [
        {
          "output_type": "stream",
          "name": "stdout",
          "text": [
            "Dataset URL: https://www.kaggle.com/datasets/vipoooool/new-plant-diseases-dataset\n",
            "License(s): copyright-authors\n",
            "new-plant-diseases-dataset.zip: Skipping, found more recently modified local copy (use --force to force download)\n"
          ]
        }
      ]
    },
    {
      "cell_type": "code",
      "source": [
        "from IPython.display import clear_output\n",
        "!unzip /content/drive/MyDrive/datasets/new-plant-diseases-dataset.zip\n",
        "clear_output()"
      ],
      "metadata": {
        "id": "ZKyvu75401Qc"
      },
      "execution_count": 3,
      "outputs": []
    },
    {
      "cell_type": "code",
      "source": [
        "import tensorflow as tf\n",
        "import matplotlib.pyplot as plt\n",
        "import pandas as pd\n",
        "import seaborn as sns"
      ],
      "metadata": {
        "id": "9u4D4xq-P1-e"
      },
      "execution_count": 67,
      "outputs": []
    },
    {
      "cell_type": "code",
      "source": [
        "\n",
        "training_set = tf.keras.utils.image_dataset_from_directory(\n",
        "    '/content/New Plant Diseases Dataset(Augmented)/New Plant Diseases Dataset(Augmented)/train/',\n",
        "    image_size=(224, 224),\n",
        "    batch_size=32,\n",
        "    validation_split=None,\n",
        "    subset=None,\n",
        ")\n",
        "\n",
        "training_set = tf.keras.utils.image_dataset_from_directory(\n",
        "    '/content/New Plant Diseases Dataset(Augmented)/New Plant Diseases Dataset(Augmented)/valid/',\n",
        "    image_size=(224, 224),\n",
        "    batch_size=32,\n",
        "    validation_split=None,\n",
        "    subset=None,\n",
        ")\n",
        "\n"
      ],
      "metadata": {
        "colab": {
          "base_uri": "https://localhost:8080/"
        },
        "id": "SJXClOPUP8kA",
        "outputId": "f3a7c883-d291-46ba-eaae-80616def2611"
      },
      "execution_count": 77,
      "outputs": [
        {
          "output_type": "stream",
          "name": "stdout",
          "text": [
            "Found 70295 files belonging to 38 classes.\n",
            "Found 17572 files belonging to 38 classes.\n"
          ]
        }
      ]
    },
    {
      "cell_type": "code",
      "source": [
        "from tensorflow.keras.layers import Rescaling\n",
        "training_set = training_set.map(lambda x, y: (Rescaling(1./255)(x), y))"
      ],
      "metadata": {
        "id": "ymlMOAezQ78v"
      },
      "execution_count": 78,
      "outputs": []
    },
    {
      "cell_type": "code",
      "source": [
        "import tensorflow as tf\n",
        "from tensorflow.keras import layers\n",
        "geometric_augmentation = tf.keras.Sequential([\n",
        "    layers.RandomFlip(\"horizontal_and_vertical\"),\n",
        "    layers.RandomRotation(0.2),\n",
        "    layers.RandomZoom(0.2),\n",
        "    layers.RandomTranslation(0.1, 0.1),\n",
        "])\n",
        "\n",
        "def apply_geometric_augmentation(image, label):\n",
        "    image = geometric_augmentation(image, training=True)\n",
        "    return image, label\n",
        "\n",
        "training_set = training_set.map(apply_geometric_augmentation)\n"
      ],
      "metadata": {
        "id": "Wq9LmqGcQmZA"
      },
      "execution_count": 79,
      "outputs": []
    },
    {
      "cell_type": "code",
      "source": [
        "color_augmentation = tf.keras.Sequential([\n",
        "    layers.RandomBrightness(0.2),\n",
        "    layers.RandomContrast(0.2),\n",
        "    layers.RandomSaturation(0.2),\n",
        "    layers.RandomHue(0.1),\n",
        "])\n",
        "\n",
        "def apply_color_augmentation(image, label):\n",
        "    image = color_augmentation(image, training=True)\n",
        "    return image, label\n",
        "\n",
        "training_set = training_set.map(apply_color_augmentation)"
      ],
      "metadata": {
        "id": "PTuSqyHYRalj"
      },
      "execution_count": 80,
      "outputs": []
    },
    {
      "cell_type": "code",
      "source": [
        "from tensorflow.keras.layers import GaussianNoise\n",
        "\n",
        "def add_gaussian_noise(image, stddev=0.05):\n",
        "    noise = tf.random.normal(shape=tf.shape(image), mean=0.0, stddev=stddev)\n",
        "    return tf.clip_by_value(image + noise, 0.0, 1.0)\n",
        "\n",
        "def apply_noise_augmentation(image, label):\n",
        "    image = add_gaussian_noise(image)\n",
        "    return image,label\n",
        "\n",
        "training_set = training_set.map(apply_noise_augmentation)\n",
        "\n"
      ],
      "metadata": {
        "id": "1fvmaNF_RfMG"
      },
      "execution_count": 81,
      "outputs": []
    },
    {
      "cell_type": "code",
      "source": [
        "def histogram_equalization_rgb(image):\n",
        "\n",
        "    # Convert to YUV color space\n",
        "    image_yuv = tf.image.rgb_to_yuv(image)\n",
        "\n",
        "    # Apply histogram equalization to Y channel (luminance)\n",
        "    y_channel = image_yuv[..., 0:1]\n",
        "\n",
        "    # Enhanced contrast adjustment (simulating histogram equalization)\n",
        "    y_eq = tf.image.adjust_contrast(y_channel, 2.0)\n",
        "    y_eq = tf.clip_by_value(y_eq, 0.0, 1.0)\n",
        "\n",
        "    # Combine back with original UV channels\n",
        "    image_yuv_eq = tf.concat([y_eq, image_yuv[..., 1:2], image_yuv[..., 2:3]], axis=-1)\n",
        "\n",
        "    # Convert back to RGB\n",
        "    return tf.image.yuv_to_rgb(image_yuv_eq)\n",
        "\n",
        "def apply_histogram_equalization(image, label):\n",
        "    \"\"\"Apply only histogram equalization\"\"\"\n",
        "    image = histogram_equalization_rgb(image)\n",
        "    return image, label\n",
        "\n",
        "training_set = training_set.map(apply_histogram_equalization)\n",
        "\n"
      ],
      "metadata": {
        "id": "su0wQ4z_RiSs"
      },
      "execution_count": 82,
      "outputs": []
    }
  ]
}